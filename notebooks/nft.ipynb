{
 "cells": [
  {
   "cell_type": "code",
   "execution_count": 1,
   "metadata": {},
   "outputs": [],
   "source": [
    "import json\n",
    "import hashlib\n",
    "import os\n",
    "from algosdk import mnemonic\n",
    "from algosdk.v2client import algod\n",
    "from algosdk.future.transaction import AssetConfigTxn, wait_for_confirmation\n",
    "\n",
    "sys.path.append(os.path.abspath(os.path.join('../scripts/')))\n",
    "from passwords import api,algo_online, file_"
   ]
  },
  {
   "cell_type": "code",
   "execution_count": 6,
   "metadata": {},
   "outputs": [],
   "source": [
    "user_address = algo_online['my_address']\n",
    "user_key = algo_online['my_private_key']"
   ]
  },
  {
   "cell_type": "code",
   "execution_count": 19,
   "metadata": {},
   "outputs": [],
   "source": [
    "algod_token = api['key']\n",
    "algod_address = 'https://testnet-algorand.api.purestake.io/ps2'\n",
    "headers = {\n",
    "    \"X-API-Key\": \"B3SU4KcVKi94Jap2VXkK83xx38bsv95K5UZm2lab\",\n",
    "}\n",
    "algod_client = algod.AlgodClient(algod_token, algod_address)\n",
    "\n",
    "\n",
    "# algodclient = algod.AlgodClient(algod_token, algod_address, headers)\n",
    "# get suggested parameters from Algod\n",
    "params = algodclient.suggested_params()"
   ]
  },
  {
   "cell_type": "code",
   "execution_count": 20,
   "metadata": {},
   "outputs": [],
   "source": [
    "\n",
    "def create_non_fungible_token():\n",
    "  # For ease of reference, add account public and private keys to\n",
    "  # an accounts dict.\n",
    "#   print(\"--------------------------------------------\")\n",
    "#   print(\"Creating account...\")\n",
    "#   accounts = {}\n",
    "#   m = create_account()\n",
    "#   accounts[1] = {}\n",
    "#   accounts[1]['pk'] = mnemonic.to_public_key(m)\n",
    "#   accounts[1]['sk'] = mnemonic.to_private_key(m)\n",
    "\n",
    "  # Change algod_token and algod_address to connect to a different client\n",
    "\n",
    "\n",
    "  print(\"--------------------------------------------\")\n",
    "  print(\"Creating Asset...\")\n",
    "  # CREATE ASSET\n",
    "  # Get network params for transactions before every transaction.\n",
    "  params = algod_client.suggested_params()\n",
    "  # comment these two lines if you want to use suggested params\n",
    "  params.fee = 1000\n",
    "  params.flat_fee = True\n",
    "    \n",
    "  # JSON file\n",
    "  dir_path = os.path.dirname(os.path.realpath(__file__))\n",
    "  f = open (dir_path + './metadata.json', \"r\")\n",
    "\n",
    "\n",
    "  \n",
    "  # Reading from file\n",
    "  metadataJSON = json.loads(f.read())\n",
    "  metadataStr = json.dumps(metadataJSON)\n",
    "\n",
    "  hash = hashlib.new(\"sha512_256\")\n",
    "  hash.update(b\"arc0003/amj\")\n",
    "  hash.update(metadataStr.encode(\"utf-8\"))\n",
    "  json_metadata_hash = hash.digest()\n",
    "\n",
    "\n",
    "  # Account 1 creates an asset called latinum and\n",
    "  # sets Account 1 as the manager, reserve, freeze, and clawback address.\n",
    "  # Asset Creation transaction\n",
    "  txn = AssetConfigTxn(\n",
    "      sender=user_address,\n",
    "      sp=params,\n",
    "      total=0,\n",
    "      default_frozen=False,\n",
    "      unit_name=\"10Academy\",\n",
    "      asset_name=\"Graduation Certificate\",\n",
    "      manager=user_address,\n",
    "      reserve=None,\n",
    "      freeze=None,\n",
    "      clawback=None,\n",
    "      strict_empty_address_check=False,\n",
    "      url=\"https://tinyurl.com/bdzcpkzy\", \n",
    "      metadata_hash=json_metadata_hash,\n",
    "      decimals=0)\n",
    "\n",
    "  # Sign with secret key of creator\n",
    "  stxn = txn.sign(user_key)\n",
    "\n",
    "  # Send the transaction to the network and retrieve the txid.\n",
    "  txid = algod_client.send_transaction(stxn)\n",
    "  print(\"Asset Creation Transaction ID: {}\".format(txid))\n",
    "\n",
    "\n",
    "  # Wait for the transaction to be confirmed\n",
    "  confirmed_txn = wait_for_confirmation(algod_client, txid, 4)  \n",
    "  print(\"TXID: \", txid)\n",
    "  print(\"Result confirmed in round: {}\".format(confirmed_txn['confirmed-round']))\n",
    "  try:\n",
    "      # Pull account info for the creator\n",
    "      # account_info = algod_client.account_info(accounts[1]['pk'])\n",
    "      # get asset_id from tx\n",
    "      # Get the new asset's information from the creator account\n",
    "      ptx = algod_client.pending_transaction_info(txid)\n",
    "      asset_id = ptx[\"asset-index\"]\n",
    "      print_created_asset(algod_client, user_address, asset_id)\n",
    "      print_asset_holding(algod_client, user_address, asset_id)\n",
    "  except Exception as e:\n",
    "      print(e)\n",
    "\n",
    "  print(\"--------------------------------------------\")\n",
    "  print(\"You have successfully created your own Non-fungible token! For the purpose of the demo, we will now delete the asset.\")\n",
    "  print(\"Deleting Asset...\")\n",
    "\n",
    "  # Asset destroy transaction\n",
    "  txn = AssetConfigTxn(\n",
    "      sender=user_address,\n",
    "      sp=params,\n",
    "      index=asset_id,\n",
    "      strict_empty_address_check=False\n",
    "      )\n",
    "\n",
    "  # Sign with secret key of creator\n",
    "  stxn = txn.sign(user_key)\n",
    "  # Send the transaction to the network and retrieve the txid.\n",
    "  txid = algod_client.send_transaction(stxn)\n",
    "  print(\"Asset Destroy Transaction ID: {}\".format(txid))\n",
    "\n",
    "  # Wait for the transaction to be confirmed\n",
    "  confirmed_txn = wait_for_confirmation(algod_client, txid, 4)  \n",
    "  print(\"TXID: \", txid)\n",
    "  print(\"Result confirmed in round: {}\".format(confirmed_txn['confirmed-round']))\n",
    "  # Asset was deleted.\n",
    "  try:\n",
    "      print_asset_holding(algod_client, user_address, asset_id)\n",
    "      print_created_asset(algod_client, user_address, asset_id)\n",
    "      print(\"Asset is deleted.\")\n",
    "  except Exception as e:\n",
    "      print(e)\n",
    "  \n",
    "  print(\"--------------------------------------------\")\n",
    "  print(\"Sending closeout transaction back to the testnet dispenser...\")\n",
    "  closeout_account(algod_client, accounts[1] )\n"
   ]
  },
  {
   "cell_type": "code",
   "execution_count": 21,
   "metadata": {},
   "outputs": [
    {
     "name": "stdout",
     "output_type": "stream",
     "text": [
      "--------------------------------------------\n",
      "Creating Asset...\n"
     ]
    },
    {
     "ename": "AlgodHTTPError",
     "evalue": "Forbidden",
     "output_type": "error",
     "traceback": [
      "\u001b[0;31m---------------------------------------------------------------------------\u001b[0m",
      "\u001b[0;31mHTTPError\u001b[0m                                 Traceback (most recent call last)",
      "\u001b[0;32m~/anaconda3/envs/issue/lib/python3.7/site-packages/algosdk/v2client/algod.py\u001b[0m in \u001b[0;36malgod_request\u001b[0;34m(self, method, requrl, params, data, headers, response_format)\u001b[0m\n\u001b[1;32m     77\u001b[0m         \u001b[0;32mtry\u001b[0m\u001b[0;34m:\u001b[0m\u001b[0;34m\u001b[0m\u001b[0;34m\u001b[0m\u001b[0m\n\u001b[0;32m---> 78\u001b[0;31m             \u001b[0mresp\u001b[0m \u001b[0;34m=\u001b[0m \u001b[0murlopen\u001b[0m\u001b[0;34m(\u001b[0m\u001b[0mreq\u001b[0m\u001b[0;34m)\u001b[0m\u001b[0;34m\u001b[0m\u001b[0;34m\u001b[0m\u001b[0m\n\u001b[0m\u001b[1;32m     79\u001b[0m         \u001b[0;32mexcept\u001b[0m \u001b[0murllib\u001b[0m\u001b[0;34m.\u001b[0m\u001b[0merror\u001b[0m\u001b[0;34m.\u001b[0m\u001b[0mHTTPError\u001b[0m \u001b[0;32mas\u001b[0m \u001b[0me\u001b[0m\u001b[0;34m:\u001b[0m\u001b[0;34m\u001b[0m\u001b[0;34m\u001b[0m\u001b[0m\n",
      "\u001b[0;32m~/anaconda3/envs/issue/lib/python3.7/urllib/request.py\u001b[0m in \u001b[0;36murlopen\u001b[0;34m(url, data, timeout, cafile, capath, cadefault, context)\u001b[0m\n\u001b[1;32m    221\u001b[0m         \u001b[0mopener\u001b[0m \u001b[0;34m=\u001b[0m \u001b[0m_opener\u001b[0m\u001b[0;34m\u001b[0m\u001b[0;34m\u001b[0m\u001b[0m\n\u001b[0;32m--> 222\u001b[0;31m     \u001b[0;32mreturn\u001b[0m \u001b[0mopener\u001b[0m\u001b[0;34m.\u001b[0m\u001b[0mopen\u001b[0m\u001b[0;34m(\u001b[0m\u001b[0murl\u001b[0m\u001b[0;34m,\u001b[0m \u001b[0mdata\u001b[0m\u001b[0;34m,\u001b[0m \u001b[0mtimeout\u001b[0m\u001b[0;34m)\u001b[0m\u001b[0;34m\u001b[0m\u001b[0;34m\u001b[0m\u001b[0m\n\u001b[0m\u001b[1;32m    223\u001b[0m \u001b[0;34m\u001b[0m\u001b[0m\n",
      "\u001b[0;32m~/anaconda3/envs/issue/lib/python3.7/urllib/request.py\u001b[0m in \u001b[0;36mopen\u001b[0;34m(self, fullurl, data, timeout)\u001b[0m\n\u001b[1;32m    530\u001b[0m             \u001b[0mmeth\u001b[0m \u001b[0;34m=\u001b[0m \u001b[0mgetattr\u001b[0m\u001b[0;34m(\u001b[0m\u001b[0mprocessor\u001b[0m\u001b[0;34m,\u001b[0m \u001b[0mmeth_name\u001b[0m\u001b[0;34m)\u001b[0m\u001b[0;34m\u001b[0m\u001b[0;34m\u001b[0m\u001b[0m\n\u001b[0;32m--> 531\u001b[0;31m             \u001b[0mresponse\u001b[0m \u001b[0;34m=\u001b[0m \u001b[0mmeth\u001b[0m\u001b[0;34m(\u001b[0m\u001b[0mreq\u001b[0m\u001b[0;34m,\u001b[0m \u001b[0mresponse\u001b[0m\u001b[0;34m)\u001b[0m\u001b[0;34m\u001b[0m\u001b[0;34m\u001b[0m\u001b[0m\n\u001b[0m\u001b[1;32m    532\u001b[0m \u001b[0;34m\u001b[0m\u001b[0m\n",
      "\u001b[0;32m~/anaconda3/envs/issue/lib/python3.7/urllib/request.py\u001b[0m in \u001b[0;36mhttp_response\u001b[0;34m(self, request, response)\u001b[0m\n\u001b[1;32m    640\u001b[0m             response = self.parent.error(\n\u001b[0;32m--> 641\u001b[0;31m                 'http', request, response, code, msg, hdrs)\n\u001b[0m\u001b[1;32m    642\u001b[0m \u001b[0;34m\u001b[0m\u001b[0m\n",
      "\u001b[0;32m~/anaconda3/envs/issue/lib/python3.7/urllib/request.py\u001b[0m in \u001b[0;36merror\u001b[0;34m(self, proto, *args)\u001b[0m\n\u001b[1;32m    568\u001b[0m             \u001b[0margs\u001b[0m \u001b[0;34m=\u001b[0m \u001b[0;34m(\u001b[0m\u001b[0mdict\u001b[0m\u001b[0;34m,\u001b[0m \u001b[0;34m'default'\u001b[0m\u001b[0;34m,\u001b[0m \u001b[0;34m'http_error_default'\u001b[0m\u001b[0;34m)\u001b[0m \u001b[0;34m+\u001b[0m \u001b[0morig_args\u001b[0m\u001b[0;34m\u001b[0m\u001b[0;34m\u001b[0m\u001b[0m\n\u001b[0;32m--> 569\u001b[0;31m             \u001b[0;32mreturn\u001b[0m \u001b[0mself\u001b[0m\u001b[0;34m.\u001b[0m\u001b[0m_call_chain\u001b[0m\u001b[0;34m(\u001b[0m\u001b[0;34m*\u001b[0m\u001b[0margs\u001b[0m\u001b[0;34m)\u001b[0m\u001b[0;34m\u001b[0m\u001b[0;34m\u001b[0m\u001b[0m\n\u001b[0m\u001b[1;32m    570\u001b[0m \u001b[0;34m\u001b[0m\u001b[0m\n",
      "\u001b[0;32m~/anaconda3/envs/issue/lib/python3.7/urllib/request.py\u001b[0m in \u001b[0;36m_call_chain\u001b[0;34m(self, chain, kind, meth_name, *args)\u001b[0m\n\u001b[1;32m    502\u001b[0m             \u001b[0mfunc\u001b[0m \u001b[0;34m=\u001b[0m \u001b[0mgetattr\u001b[0m\u001b[0;34m(\u001b[0m\u001b[0mhandler\u001b[0m\u001b[0;34m,\u001b[0m \u001b[0mmeth_name\u001b[0m\u001b[0;34m)\u001b[0m\u001b[0;34m\u001b[0m\u001b[0;34m\u001b[0m\u001b[0m\n\u001b[0;32m--> 503\u001b[0;31m             \u001b[0mresult\u001b[0m \u001b[0;34m=\u001b[0m \u001b[0mfunc\u001b[0m\u001b[0;34m(\u001b[0m\u001b[0;34m*\u001b[0m\u001b[0margs\u001b[0m\u001b[0;34m)\u001b[0m\u001b[0;34m\u001b[0m\u001b[0;34m\u001b[0m\u001b[0m\n\u001b[0m\u001b[1;32m    504\u001b[0m             \u001b[0;32mif\u001b[0m \u001b[0mresult\u001b[0m \u001b[0;32mis\u001b[0m \u001b[0;32mnot\u001b[0m \u001b[0;32mNone\u001b[0m\u001b[0;34m:\u001b[0m\u001b[0;34m\u001b[0m\u001b[0;34m\u001b[0m\u001b[0m\n",
      "\u001b[0;32m~/anaconda3/envs/issue/lib/python3.7/urllib/request.py\u001b[0m in \u001b[0;36mhttp_error_default\u001b[0;34m(self, req, fp, code, msg, hdrs)\u001b[0m\n\u001b[1;32m    648\u001b[0m     \u001b[0;32mdef\u001b[0m \u001b[0mhttp_error_default\u001b[0m\u001b[0;34m(\u001b[0m\u001b[0mself\u001b[0m\u001b[0;34m,\u001b[0m \u001b[0mreq\u001b[0m\u001b[0;34m,\u001b[0m \u001b[0mfp\u001b[0m\u001b[0;34m,\u001b[0m \u001b[0mcode\u001b[0m\u001b[0;34m,\u001b[0m \u001b[0mmsg\u001b[0m\u001b[0;34m,\u001b[0m \u001b[0mhdrs\u001b[0m\u001b[0;34m)\u001b[0m\u001b[0;34m:\u001b[0m\u001b[0;34m\u001b[0m\u001b[0;34m\u001b[0m\u001b[0m\n\u001b[0;32m--> 649\u001b[0;31m         \u001b[0;32mraise\u001b[0m \u001b[0mHTTPError\u001b[0m\u001b[0;34m(\u001b[0m\u001b[0mreq\u001b[0m\u001b[0;34m.\u001b[0m\u001b[0mfull_url\u001b[0m\u001b[0;34m,\u001b[0m \u001b[0mcode\u001b[0m\u001b[0;34m,\u001b[0m \u001b[0mmsg\u001b[0m\u001b[0;34m,\u001b[0m \u001b[0mhdrs\u001b[0m\u001b[0;34m,\u001b[0m \u001b[0mfp\u001b[0m\u001b[0;34m)\u001b[0m\u001b[0;34m\u001b[0m\u001b[0;34m\u001b[0m\u001b[0m\n\u001b[0m\u001b[1;32m    650\u001b[0m \u001b[0;34m\u001b[0m\u001b[0m\n",
      "\u001b[0;31mHTTPError\u001b[0m: HTTP Error 403: Forbidden",
      "\nDuring handling of the above exception, another exception occurred:\n",
      "\u001b[0;31mAlgodHTTPError\u001b[0m                            Traceback (most recent call last)",
      "\u001b[0;32m/tmp/ipykernel_35443/2104103028.py\u001b[0m in \u001b[0;36m<module>\u001b[0;34m\u001b[0m\n\u001b[1;32m     29\u001b[0m             \u001b[0;32mbreak\u001b[0m\u001b[0;34m\u001b[0m\u001b[0;34m\u001b[0m\u001b[0m\n\u001b[1;32m     30\u001b[0m \u001b[0;34m\u001b[0m\u001b[0m\n\u001b[0;32m---> 31\u001b[0;31m \u001b[0mcreate_non_fungible_token\u001b[0m\u001b[0;34m(\u001b[0m\u001b[0;34m)\u001b[0m\u001b[0;34m\u001b[0m\u001b[0;34m\u001b[0m\u001b[0m\n\u001b[0m",
      "\u001b[0;32m/tmp/ipykernel_35443/1901345661.py\u001b[0m in \u001b[0;36mcreate_non_fungible_token\u001b[0;34m()\u001b[0m\n\u001b[1;32m     17\u001b[0m   \u001b[0;31m# CREATE ASSET\u001b[0m\u001b[0;34m\u001b[0m\u001b[0;34m\u001b[0m\u001b[0;34m\u001b[0m\u001b[0m\n\u001b[1;32m     18\u001b[0m   \u001b[0;31m# Get network params for transactions before every transaction.\u001b[0m\u001b[0;34m\u001b[0m\u001b[0;34m\u001b[0m\u001b[0;34m\u001b[0m\u001b[0m\n\u001b[0;32m---> 19\u001b[0;31m   \u001b[0mparams\u001b[0m \u001b[0;34m=\u001b[0m \u001b[0malgod_client\u001b[0m\u001b[0;34m.\u001b[0m\u001b[0msuggested_params\u001b[0m\u001b[0;34m(\u001b[0m\u001b[0;34m)\u001b[0m\u001b[0;34m\u001b[0m\u001b[0;34m\u001b[0m\u001b[0m\n\u001b[0m\u001b[1;32m     20\u001b[0m   \u001b[0;31m# comment these two lines if you want to use suggested params\u001b[0m\u001b[0;34m\u001b[0m\u001b[0;34m\u001b[0m\u001b[0;34m\u001b[0m\u001b[0m\n\u001b[1;32m     21\u001b[0m   \u001b[0mparams\u001b[0m\u001b[0;34m.\u001b[0m\u001b[0mfee\u001b[0m \u001b[0;34m=\u001b[0m \u001b[0;36m1000\u001b[0m\u001b[0;34m\u001b[0m\u001b[0;34m\u001b[0m\u001b[0m\n",
      "\u001b[0;32m~/anaconda3/envs/issue/lib/python3.7/site-packages/algosdk/v2client/algod.py\u001b[0m in \u001b[0;36msuggested_params\u001b[0;34m(self, **kwargs)\u001b[0m\n\u001b[1;32m    335\u001b[0m         \u001b[0;34m\"\"\"Return suggested transaction parameters.\"\"\"\u001b[0m\u001b[0;34m\u001b[0m\u001b[0;34m\u001b[0m\u001b[0m\n\u001b[1;32m    336\u001b[0m         \u001b[0mreq\u001b[0m \u001b[0;34m=\u001b[0m \u001b[0;34m\"/transactions/params\"\u001b[0m\u001b[0;34m\u001b[0m\u001b[0;34m\u001b[0m\u001b[0m\n\u001b[0;32m--> 337\u001b[0;31m         \u001b[0mres\u001b[0m \u001b[0;34m=\u001b[0m \u001b[0mself\u001b[0m\u001b[0;34m.\u001b[0m\u001b[0malgod_request\u001b[0m\u001b[0;34m(\u001b[0m\u001b[0;34m\"GET\"\u001b[0m\u001b[0;34m,\u001b[0m \u001b[0mreq\u001b[0m\u001b[0;34m,\u001b[0m \u001b[0;34m**\u001b[0m\u001b[0mkwargs\u001b[0m\u001b[0;34m)\u001b[0m\u001b[0;34m\u001b[0m\u001b[0;34m\u001b[0m\u001b[0m\n\u001b[0m\u001b[1;32m    338\u001b[0m \u001b[0;34m\u001b[0m\u001b[0m\n\u001b[1;32m    339\u001b[0m         return future.transaction.SuggestedParams(\n",
      "\u001b[0;32m~/anaconda3/envs/issue/lib/python3.7/site-packages/algosdk/v2client/algod.py\u001b[0m in \u001b[0;36malgod_request\u001b[0;34m(self, method, requrl, params, data, headers, response_format)\u001b[0m\n\u001b[1;32m     83\u001b[0m                 \u001b[0me\u001b[0m \u001b[0;34m=\u001b[0m \u001b[0mjson\u001b[0m\u001b[0;34m.\u001b[0m\u001b[0mloads\u001b[0m\u001b[0;34m(\u001b[0m\u001b[0me\u001b[0m\u001b[0;34m)\u001b[0m\u001b[0;34m[\u001b[0m\u001b[0;34m\"message\"\u001b[0m\u001b[0;34m]\u001b[0m\u001b[0;34m\u001b[0m\u001b[0;34m\u001b[0m\u001b[0m\n\u001b[1;32m     84\u001b[0m             \u001b[0;32mfinally\u001b[0m\u001b[0;34m:\u001b[0m\u001b[0;34m\u001b[0m\u001b[0;34m\u001b[0m\u001b[0m\n\u001b[0;32m---> 85\u001b[0;31m                 \u001b[0;32mraise\u001b[0m \u001b[0merror\u001b[0m\u001b[0;34m.\u001b[0m\u001b[0mAlgodHTTPError\u001b[0m\u001b[0;34m(\u001b[0m\u001b[0me\u001b[0m\u001b[0;34m,\u001b[0m \u001b[0mcode\u001b[0m\u001b[0;34m)\u001b[0m\u001b[0;34m\u001b[0m\u001b[0;34m\u001b[0m\u001b[0m\n\u001b[0m\u001b[1;32m     86\u001b[0m         \u001b[0;32mif\u001b[0m \u001b[0mresponse_format\u001b[0m \u001b[0;34m==\u001b[0m \u001b[0;34m\"json\"\u001b[0m\u001b[0;34m:\u001b[0m\u001b[0;34m\u001b[0m\u001b[0;34m\u001b[0m\u001b[0m\n\u001b[1;32m     87\u001b[0m             \u001b[0;32mtry\u001b[0m\u001b[0;34m:\u001b[0m\u001b[0;34m\u001b[0m\u001b[0;34m\u001b[0m\u001b[0m\n",
      "\u001b[0;31mAlgodHTTPError\u001b[0m: Forbidden"
     ]
    }
   ],
   "source": [
    "\n",
    "\n",
    "#   Utility function used to print created asset for account and assetid\n",
    "def print_created_asset(algodclient, account, assetid):\n",
    "  # note: if you have an indexer instance available it is easier to just use this\n",
    "  # response = myindexer.accounts(asset_id = assetid)\n",
    "  # then use 'account_info['created-assets'][0] to get info on the created asset\n",
    "  account_info = algodclient.account_info(account)\n",
    "  idx = 0;\n",
    "  for my_account_info in account_info['created-assets']:\n",
    "    scrutinized_asset = account_info['created-assets'][idx]\n",
    "    idx = idx + 1       \n",
    "    if (scrutinized_asset['index'] == assetid):\n",
    "      print(\"Asset ID: {}\".format(scrutinized_asset['index']))\n",
    "      print(json.dumps(my_account_info['params'], indent=4))\n",
    "      break\n",
    "\n",
    "#   Utility function used to print asset holding for account and assetid\n",
    "def print_asset_holding(algodclient, account, assetid):\n",
    "    # note: if you have an indexer instance available it is easier to just use this\n",
    "    # response = myindexer.accounts(asset_id = assetid)\n",
    "    # then loop thru the accounts returned and match the account you are looking for\n",
    "    account_info = algodclient.account_info(account)\n",
    "    idx = 0\n",
    "    for my_account_info in account_info['assets']:\n",
    "        scrutinized_asset = account_info['assets'][idx]\n",
    "        idx = idx + 1        \n",
    "        if (scrutinized_asset['asset-id'] == assetid):\n",
    "            print(\"Asset ID: {}\".format(scrutinized_asset['asset-id']))\n",
    "            print(json.dumps(scrutinized_asset, indent=4))\n",
    "            break\n",
    "\n",
    "create_non_fungible_token()"
   ]
  },
  {
   "cell_type": "code",
   "execution_count": 22,
   "metadata": {},
   "outputs": [
    {
     "name": "stdout",
     "output_type": "stream",
     "text": [
      "YLH4K73F2SSTH7F77CBWDJZO3W63WXREXD7EVUUOJ6GZM5CFF5KW3OUNEA\n"
     ]
    }
   ],
   "source": [
    "print(user_add)"
   ]
  },
  {
   "cell_type": "code",
   "execution_count": null,
   "metadata": {},
   "outputs": [
    {
     "name": "stdout",
     "output_type": "stream",
     "text": [
      "https://tinyurl.com/bdzcpkzy\n"
     ]
    }
   ],
   "source": [
    "print(file_['tiny_url'])"
   ]
  },
  {
   "cell_type": "code",
   "execution_count": null,
   "metadata": {},
   "outputs": [],
   "source": []
  }
 ],
 "metadata": {
  "kernelspec": {
   "display_name": "Python 3.7.13 ('issue')",
   "language": "python",
   "name": "python3"
  },
  "language_info": {
   "codemirror_mode": {
    "name": "ipython",
    "version": 3
   },
   "file_extension": ".py",
   "mimetype": "text/x-python",
   "name": "python",
   "nbconvert_exporter": "python",
   "pygments_lexer": "ipython3",
   "version": "3.7.13"
  },
  "orig_nbformat": 4,
  "vscode": {
   "interpreter": {
    "hash": "6f5af68d51c57781d0b00fa1a5ec382e98a5ea5ae87a311f64851d69a9e898f0"
   }
  }
 },
 "nbformat": 4,
 "nbformat_minor": 2
}
