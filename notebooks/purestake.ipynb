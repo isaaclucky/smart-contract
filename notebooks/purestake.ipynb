{
 "cells": [
  {
   "cell_type": "code",
   "execution_count": 5,
   "metadata": {},
   "outputs": [],
   "source": [
    "import json\n",
    "import time\n",
    "import base64\n",
    "from algosdk.v2client import algod\n",
    "from algosdk import mnemonic\n",
    "from algosdk import transaction\n",
    "sys.path.append(os.path.abspath(os.path.join('../scripts/')))\n",
    "from passwords import api,algo_online"
   ]
  },
  {
   "cell_type": "code",
   "execution_count": 6,
   "metadata": {},
   "outputs": [],
   "source": [
    "def wait_for_confirmation(client, txid):\n",
    "    last_round = client.status().get('last-round')\n",
    "    txinfo = client.pending_transaction_info(txid)\n",
    "    while not (txinfo.get('confirmed-round') and txinfo.get('confirmed-round') > 0):\n",
    "        print('Waiting for confirmation')\n",
    "        last_round += 1\n",
    "        client.status_after_block(last_round)\n",
    "        txinfo = client.pending_transaction_info(txid)\n",
    "    print('Transaction confirmed in round', txinfo.get('confirmed-round'))\n",
    "    return txinfo\n"
   ]
  },
  {
   "cell_type": "code",
   "execution_count": 26,
   "metadata": {},
   "outputs": [],
   "source": [
    "# Setup HTTP client w/guest key provided by PureStake\n",
    "algod_address = 'https://testnet-algorand.api.purestake.io/ps2'\n",
    "algod_token = \"\"\n",
    "api_key = api['key']\n",
    "headers = {\n",
    "    \"X-API-Key\": api_key,\n",
    "}\n",
    "\n"
   ]
  },
  {
   "cell_type": "code",
   "execution_count": 27,
   "metadata": {},
   "outputs": [],
   "source": [
    "algodclient = algod.AlgodClient(algod_token, algod_address, headers)\n",
    "# get suggested parameters from Algod\n",
    "params = algodclient.suggested_params()"
   ]
  },
  {
   "cell_type": "code",
   "execution_count": 32,
   "metadata": {},
   "outputs": [
    {
     "name": "stdout",
     "output_type": "stream",
     "text": [
      "Transaction sent with ID 6LZNZ435EI7KS224NIDJNZIJANJ5TZCJ4P4IGTT2XSHC6OQKNGVQ\n",
      "Waiting for confirmation\n",
      "Transaction confirmed in round 24426757\n"
     ]
    }
   ],
   "source": [
    "\n",
    "\n",
    "\n",
    "# get suggested parameters from Algod\n",
    "params = algodclient.suggested_params()\n",
    "\n",
    "gh = params.gh\n",
    "first_valid_round = params.first\n",
    "last_valid_round = params.last\n",
    "fee = params.min_fee\n",
    "send_amount = 10\n",
    "\n",
    "existing_account = 'YLH4K73F2SSTH7F77CBWDJZO3W63WXREXD7EVUUOJ6GZM5CFF5KW3OUNEA'\n",
    "send_to_address = 'AEC4WDHXCDF4B5LBNXXRTB3IJTVJSWUZ4VJ4THPU2QGRJGTA3MIDFN3CQA'\n",
    "\n",
    "# Create and sign transaction\n",
    "tx = transaction.PaymentTxn(existing_account, fee, first_valid_round, last_valid_round, gh, send_to_address,\n",
    "                            send_amount, flat_fee=True)\n",
    "signed_tx = tx.sign(algo_online['my_private_key'])\n",
    "\n",
    "try:\n",
    "    tx_confirm = algodclient.send_transaction(signed_tx)\n",
    "    print('Transaction sent with ID', signed_tx.transaction.get_txid())\n",
    "    wait_for_confirmation(algodclient, txid=signed_tx.transaction.get_txid())\n",
    "except Exception as e:\n",
    "    print(e)"
   ]
  },
  {
   "cell_type": "code",
   "execution_count": null,
   "metadata": {},
   "outputs": [],
   "source": []
  }
 ],
 "metadata": {
  "kernelspec": {
   "display_name": "Python 3.7.13 ('issue')",
   "language": "python",
   "name": "python3"
  },
  "language_info": {
   "codemirror_mode": {
    "name": "ipython",
    "version": 3
   },
   "file_extension": ".py",
   "mimetype": "text/x-python",
   "name": "python",
   "nbconvert_exporter": "python",
   "pygments_lexer": "ipython3",
   "version": "3.7.13"
  },
  "orig_nbformat": 4,
  "vscode": {
   "interpreter": {
    "hash": "6f5af68d51c57781d0b00fa1a5ec382e98a5ea5ae87a311f64851d69a9e898f0"
   }
  }
 },
 "nbformat": 4,
 "nbformat_minor": 2
}
